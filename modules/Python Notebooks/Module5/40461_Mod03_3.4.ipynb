{
 "cells": [
  {
   "cell_type": "markdown",
   "metadata": {},
   "source": [
    "# Section 3.4\n",
    "# Between Strings and Lists\n",
    "- for in: `for` loop using `in`\n",
    "- for range: `for range(start,stop,step)` \n",
    "- More list methods: `.extend()`, `+, .reverse(), .sort()` \n",
    "- **Strings to lists,`.split()`, and list to strings, `.join()`**\n",
    "- **List cast & `print(\"hello\", end='')`**\n",
    "\n",
    "\n",
    "----- \n",
    "\n",
    "### Student will be able to\n",
    "- Iterate through lists using `for` with `in`\n",
    "- Use `for range()` in looping operations \n",
    "- Use list methods `.extend()`, `+, .reverse(), .sort()` \n",
    "- **Convert between lists and strings using  `.split()` and `.join()`**\n",
    "- **Cast strings to lists / direct multiple print outputs to a single line**"
   ]
  },
  {
   "cell_type": "markdown",
   "metadata": {},
   "source": [
    "## Concept: Converting a string to a list with `.split()`\n",
    "\n",
    "### `.split()`  by default, splits a string at spaces (\" \") to create a list\n",
    "```python\n",
    "tip = \"Notebooks can be exported as .pdf\"\n",
    "tip_words = tip.split()\n",
    "\n",
    "for word in tip_words:\n",
    "    print(word)\n",
    "```"
   ]
  },
  {
   "cell_type": "markdown",
   "metadata": {},
   "source": [
    "### Examples"
   ]
  },
  {
   "cell_type": "code",
   "execution_count": null,
   "metadata": {},
   "outputs": [],
   "source": [
    "# [ ] review and run example\n",
    "tip = \"Notebooks can be exported as .pdf\"\n",
    "tip_words = tip.split()\n",
    "\n",
    "print(\"STRING:\", tip)\n",
    "print(\"LIST:\", tip_words, \"\\n\")\n",
    "\n",
    "for word in tip_words:\n",
    "    print(word)"
   ]
  },
  {
   "cell_type": "code",
   "execution_count": null,
   "metadata": {},
   "outputs": [],
   "source": [
    "# [ ] review and run example\n",
    "rhyme = \"London bridge is falling down\"\n",
    "\n",
    "rhyme_words = rhyme.split()\n",
    "\n",
    "rhyme_words.reverse()\n",
    "\n",
    "for word in rhyme_words:\n",
    "    print(word)"
   ]
  },
  {
   "cell_type": "markdown",
   "metadata": {
    "collapsed": true
   },
   "source": [
    "## Task 1: Using `.split()`"
   ]
  },
  {
   "cell_type": "code",
   "execution_count": null,
   "metadata": {},
   "outputs": [],
   "source": [
    "# [ ] split the string(rhyme) into a list of words (rhyme_words)\n",
    "# [ ] print each word on it's own line\n",
    "rhyme = 'Jack and Jill went up the hill To fetch a pail of water' \n",
    "\n"
   ]
  },
  {
   "cell_type": "code",
   "execution_count": null,
   "metadata": {},
   "outputs": [],
   "source": [
    "# [ ] split code_tip into a list and print the first and every other word\n",
    "code_tip = \"Python uses spaces for indentation\"\n",
    "\n"
   ]
  },
  {
   "cell_type": "markdown",
   "metadata": {},
   "source": [
    "## Concept: `.split('-')`\n",
    "\n",
    "### To split on characters other than \" \" (space), provide `.split()` a string argument to use as break points\n",
    "```python \n",
    "code_tip = \"Python-uses-spaces-for-indentation\"\n",
    "tip_words = code_tip.split('-')\n",
    "```"
   ]
  },
  {
   "cell_type": "markdown",
   "metadata": {},
   "source": [
    "### Examples\n",
    "#### `.split('-') : split with an argument"
   ]
  },
  {
   "cell_type": "code",
   "execution_count": null,
   "metadata": {},
   "outputs": [],
   "source": [
    "# [ ] review and run example\n",
    "code_tip = \"Python-uses-spaces-for-indentation\"\n",
    "tip_words = code_tip.split('-')\n",
    "\n",
    "print(tip_words)"
   ]
  },
  {
   "cell_type": "code",
   "execution_count": null,
   "metadata": {},
   "outputs": [],
   "source": [
    "# [ ] review and run example - study the list print output\n",
    "code_tip = \"Python uses spaces for indentation\"\n",
    "\n",
    "# split on \"a\"\n",
    "tip_words = code_tip.split('a')\n",
    "print(code_tip)\n",
    "print(tip_words)"
   ]
  },
  {
   "cell_type": "code",
   "execution_count": null,
   "metadata": {},
   "outputs": [],
   "source": [
    "# [ ] review and run example\n",
    "# triple quotes ''' ''' preserve formatting such as spaces and line breaks\n",
    "big_quote = \"\"\"Jack and Jill went up the hill\n",
    "To fetch a pail of water\n",
    "Jack fell down and broke his crown\n",
    "And Jill came tumbling after\"\"\"\n",
    "\n",
    "# split on line breaks (\\n)\n",
    "quote_lines = big_quote.split('\\n')\n",
    "print(quote_lines, '\\n')\n",
    "\n",
    "# print the list in reverse with index slicing\n",
    "for line in quote_lines[::-1]:\n",
    "    print(line)\n"
   ]
  },
  {
   "cell_type": "markdown",
   "metadata": {
    "collapsed": true
   },
   "source": [
    "## Task 2: `.split()`"
   ]
  },
  {
   "cell_type": "code",
   "execution_count": null,
   "metadata": {},
   "outputs": [],
   "source": [
    "# [ ] split poem into a list of phrases by splitting on \"*\" a\n",
    "# [ ] print each phrase on a new line in title case\n",
    "poem = \"Write code frequently*Save code frequently*Comment code frequently*Study code frequently*\"\n"
   ]
  },
  {
   "cell_type": "markdown",
   "metadata": {},
   "source": [
    "# &nbsp;\n",
    "<font size=\"6\" color=\"#00A0B2\"  face=\"verdana\"> <B></B></font>  \n",
    "\n",
    "## Concept: Build a string from a list\n",
    "### `.join()`\n",
    "\n",
    "### `.join()` is a method applied to a separator string and iterates through its argument\n",
    "```python\n",
    "tip_words = ['Notebooks', 'can', 'be', 'exported', 'as', '.pdf'] \n",
    "\n",
    "\" \".join(tip_words)\n",
    "```\n",
    "A space (\" \") is the separator that gets injected between the objects in the argument (the list \"tip_words\")."
   ]
  },
  {
   "cell_type": "markdown",
   "metadata": {},
   "source": [
    "### Examples: `.join()`"
   ]
  },
  {
   "cell_type": "code",
   "execution_count": null,
   "metadata": {},
   "outputs": [],
   "source": [
    "# [ ] review and run example\n",
    "tip_words = ['Notebooks', 'can', 'be', 'exported', 'as', '.pdf'] \n",
    "\n",
    "# join tip_words objects with spaces\n",
    "print(\" \".join(tip_words))"
   ]
  },
  {
   "cell_type": "code",
   "execution_count": null,
   "metadata": {},
   "outputs": [],
   "source": [
    "# [ ] review and run example\n",
    "no_space = \"\"\n",
    "letters = [\"P\", \"y\", \"t\", \"h\", \"o\", \"n\"]\n",
    "print(no_space.join(letters))"
   ]
  },
  {
   "cell_type": "code",
   "execution_count": null,
   "metadata": {},
   "outputs": [],
   "source": [
    "# [ ] review and run example - .join() iterates through sequences\n",
    "dash = \"-\"\n",
    "space = \" \"\n",
    "word = \"Iteration\"\n",
    "ellipises = \"...\"\n",
    "\n",
    "dash_join = dash.join(word)\n",
    "print(dash_join)\n",
    "print(space.join(word))\n",
    "print(ellipises.join(word))"
   ]
  },
  {
   "cell_type": "markdown",
   "metadata": {
    "collapsed": true
   },
   "source": [
    "## Task 3: `.join()`"
   ]
  },
  {
   "cell_type": "code",
   "execution_count": null,
   "metadata": {},
   "outputs": [],
   "source": [
    "# [ ] .join() letters list objects with an Asterisk: \"*\"\n",
    "letters = [\"A\", \"s\", \"t\", \"e\", \"r\", \"i\", \"s\", \"k\"]\n",
    "\n"
   ]
  },
  {
   "cell_type": "markdown",
   "metadata": {
    "collapsed": true
   },
   "source": [
    "## Task 4 (program): Choose the separator\n",
    "- get user input on what to use to join words (\" \", *, -, etc...) - store in variable: separator\n",
    "- join pharse_words with the separator and print"
   ]
  },
  {
   "cell_type": "code",
   "execution_count": null,
   "metadata": {},
   "outputs": [],
   "source": [
    "# [ ] complete Choose the separator\n",
    "phrase_words = ['Jack', 'and', 'Jill', 'went', 'up', 'the', 'hill', 'To', 'fetch', 'a', 'pail', 'of', 'water']\n",
    "\n"
   ]
  },
  {
   "cell_type": "markdown",
   "metadata": {},
   "source": [
    "## Concept: More Python string tools\n",
    "\n",
    "### Cast a string to a list of characters  \n",
    "```python\n",
    "hello_letters = list(\"Hello\")\n",
    "```\n",
    "### Print to the same line with multiple print statements (`end=`)\n",
    "Or insert any character as an end in print(\"String\", end=\"+\").\n",
    "```python\n",
    "print('Hello', end = '')\n",
    "print('world')\n",
    "```"
   ]
  },
  {
   "cell_type": "markdown",
   "metadata": {},
   "source": [
    "### Examples"
   ]
  },
  {
   "cell_type": "code",
   "execution_count": null,
   "metadata": {},
   "outputs": [],
   "source": [
    "# [ ] review and run example\n",
    "hello_letters = list(\"Hello\")\n",
    "print(hello_letters)"
   ]
  },
  {
   "cell_type": "code",
   "execution_count": null,
   "metadata": {},
   "outputs": [],
   "source": [
    "# [ ] review and run example\n",
    "# cast sting to list\n",
    "word_letters = list(\"concatenates\")\n",
    "\n",
    "# .join() concatenates the list\n",
    "# print on same line setting the end character\n",
    "print('~'.join(word_letters))"
   ]
  },
  {
   "cell_type": "code",
   "execution_count": null,
   "metadata": {},
   "outputs": [],
   "source": [
    "# [ ] review and run example\n",
    "print(\"Hello \", end = '')\n",
    "print(\"world\")"
   ]
  },
  {
   "cell_type": "code",
   "execution_count": null,
   "metadata": {},
   "outputs": [],
   "source": [
    "# [ ] review and run example\n",
    "# This  is the default print end\n",
    "print(\"Hello World!\", end=\"\\n\")\n",
    "print('still something to learn about print()')"
   ]
  },
  {
   "cell_type": "code",
   "execution_count": null,
   "metadata": {},
   "outputs": [],
   "source": [
    "# [ ] review and run example\n",
    "# end inserts any valid str character: A-z, 0-9,!,@,*,\\n,\\t or ''(empty string)...\n",
    "for letter in \"Concatenation\":\n",
    "    print(letter, end='*')"
   ]
  },
  {
   "cell_type": "markdown",
   "metadata": {},
   "source": [
    "## Task 5: `end=\" \" ` configuration in printing\n",
    "`print('The String', end='')`"
   ]
  },
  {
   "cell_type": "code",
   "execution_count": null,
   "metadata": {},
   "outputs": [],
   "source": [
    "# [ ] use 3 print() statements to output text to one line \n",
    "# [ ] separate the lines by using \"- \" (dash space)\n",
    "\n"
   ]
  },
  {
   "cell_type": "markdown",
   "metadata": {},
   "source": [
    "## Task 6: cast str to list\n",
    "`Msg_characters = list(\"Always test your code\")`"
   ]
  },
  {
   "cell_type": "code",
   "execution_count": null,
   "metadata": {},
   "outputs": [],
   "source": [
    "# [ ] create a string (fact) of 20 or more characters and cast to a list (fact_letters)\n",
    "# [ ] iterate fact, printing each char on one line, except for spaces print a new line\n",
    "\n"
   ]
  },
  {
   "cell_type": "markdown",
   "metadata": {
    "collapsed": true
   },
   "source": [
    "## Task 7 (program): Add the digits\n",
    "- Create a 20 digit string, and cast to a list\n",
    "- Then add all the digits as integers\n",
    "- Print the equation and answer  \n",
    "\n",
    "Hint: use cast to sum the digits, and .join() to create the equation (1+2+3+...)"
   ]
  },
  {
   "cell_type": "code",
   "execution_count": null,
   "metadata": {},
   "outputs": [],
   "source": [
    "# [ ] create add the digits\n",
    "\n",
    "\n"
   ]
  },
  {
   "cell_type": "markdown",
   "metadata": {
    "collapsed": true
   },
   "source": [
    "[Terms of use](http://go.microsoft.com/fwlink/?LinkID=206977) &nbsp; [Privacy & cookies](https://go.microsoft.com/fwlink/?LinkId=521839) &nbsp; © 2017 Microsoft"
   ]
  }
 ],
 "metadata": {
  "anaconda-cloud": {},
  "kernelspec": {
   "display_name": "Python 3",
   "language": "python",
   "name": "python3"
  },
  "language_info": {
   "codemirror_mode": {
    "name": "ipython",
    "version": 3
   },
   "file_extension": ".py",
   "mimetype": "text/x-python",
   "name": "python",
   "nbconvert_exporter": "python",
   "pygments_lexer": "ipython3",
   "version": "3.8.5"
  }
 },
 "nbformat": 4,
 "nbformat_minor": 1
}
