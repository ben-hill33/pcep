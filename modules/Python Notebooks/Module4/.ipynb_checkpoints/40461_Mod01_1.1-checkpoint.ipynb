{
 "cells": [
  {
   "cell_type": "markdown",
   "metadata": {},
   "source": [
    "# Section 1.1\n",
    "## String Sequences\n",
    "- **Accessing string characters with index**\n",
    "- Accessing substrings with index slicing\n",
    "- Iterating through characters of a string\n",
    "- More string methods\n",
    "\n",
    "----- \n",
    "\n",
    "### Student will be able to\n",
    "- **Work with string characters by index**\n",
    "- Slice strings into substrings\n",
    "- Iterate through string characters\n",
    "- Use string methods"
   ]
  },
  {
   "cell_type": "markdown",
   "metadata": {
    "collapsed": true
   },
   "source": [
    "## Concept: Accessing a Single String Character\n",
    "\n",
    "### Addressing a string index\n",
    "Strings are sequences of characters.  Another common sequence type used in this course is a **list**.  Sequences index items counting from 0 for the first item.\n",
    "\n",
    "\n",
    "\n",
    "```python\n",
    "# assign string to student_name\n",
    "student_name = \"Alton\"\n",
    "# first character is at index 0\n",
    "student_name[0]\n",
    "```  \n"
   ]
  },
  {
   "cell_type": "markdown",
   "metadata": {},
   "source": [
    "### Examples"
   ]
  },
  {
   "cell_type": "code",
   "execution_count": null,
   "metadata": {
    "collapsed": true
   },
   "outputs": [],
   "source": [
    "# [ ] review and run example - note the first element is always index = 0\n",
    "student_name = \"Alton\"\n",
    "print(student_name[0], \"<-- first character at index 0\")\n",
    "print(student_name[1])\n",
    "print(student_name[2])\n",
    "print(student_name[3])\n",
    "print(student_name[4])"
   ]
  },
  {
   "cell_type": "code",
   "execution_count": null,
   "metadata": {},
   "outputs": [],
   "source": [
    "# [ ] review and run example\n",
    "student_name = \"Jin\"\n",
    "if student_name[0].lower() == \"a\":\n",
    "    print('Winner! Name starts with A:', student_name)\n",
    "elif student_name[0].lower() == \"j\":\n",
    "    print('Winner! Name starts with J:', student_name)\n",
    "else:\n",
    "    print('Not a match, try again tomorrow:', student_name)"
   ]
  },
  {
   "cell_type": "code",
   "execution_count": null,
   "metadata": {},
   "outputs": [],
   "source": [
    "# [ ] review and run ERROR example\n",
    "# cannot index out of range\n",
    "student_name = \"Tobias\"\n",
    "print(student_name[6])"
   ]
  },
  {
   "cell_type": "markdown",
   "metadata": {
    "collapsed": true
   },
   "source": [
    "## Task 1: Work with individual string characters  \n",
    "\n",
    "|                                                                 |\n",
    "|-----------------------------------------------------------------|\n",
    "| **Remember:** The first character in a string is at **index 0**.|\n",
    "|                                                                 |\n"
   ]
  },
  {
   "cell_type": "code",
   "execution_count": null,
   "metadata": {},
   "outputs": [],
   "source": [
    "# [ ] assign a string 5 or more letters long to the variable: street_name\n",
    "# [ ] print the 1st, 3rd and 5th characters\n",
    "\n",
    "\n"
   ]
  },
  {
   "cell_type": "code",
   "execution_count": null,
   "metadata": {},
   "outputs": [],
   "source": [
    "# [ ] Create an input variable: team_name - ask that second letter = \"i\", \"o\", or \"u\"\n",
    "# [ ] Test if team_name 2nd character = \"i\", \"o\", or \"u\" and print a message\n",
    "# note: use if, elif and else\n",
    "\n"
   ]
  },
  {
   "cell_type": "markdown",
   "metadata": {},
   "source": [
    "## Concept: Using a Negative Index \n",
    "\n",
    "### Access the end of a string using -1\n",
    "Strings assign an **index** number address to each string character\n",
    "\n",
    "- First character in a string is index 0\n",
    "- Last character in a string is index **-1**\n",
    "\n",
    "\n",
    "\n",
    "To access the last character in a string:\n",
    "```python\n",
    "student_name[-1]\n",
    "```\n"
   ]
  },
  {
   "cell_type": "markdown",
   "metadata": {},
   "source": [
    "### Examples\n",
    "\n"
   ]
  },
  {
   "cell_type": "markdown",
   "metadata": {},
   "source": [
    "#### access the last character with the -1 index\n",
    "negative index counts back from the last character in a string  "
   ]
  },
  {
   "cell_type": "code",
   "execution_count": null,
   "metadata": {},
   "outputs": [],
   "source": [
    "# [ ] review and run example\n",
    "student_name = \"Joana\"\n",
    "\n",
    "# get last letter\n",
    "end_letter = student_name[-1]\n",
    "print(student_name,\"ends with\", \"'\" + end_letter + \"'\")"
   ]
  },
  {
   "cell_type": "code",
   "execution_count": null,
   "metadata": {},
   "outputs": [],
   "source": [
    "# [ ] review and run example\n",
    "# get second to last letter\n",
    "second_last_letter = student_name[-2]\n",
    "print(student_name,\"has 2nd to last letter of\", \"'\" + second_last_letter + \"'\")"
   ]
  },
  {
   "cell_type": "code",
   "execution_count": null,
   "metadata": {},
   "outputs": [],
   "source": [
    "# [ ] review and run example\n",
    "# you can get to the same letter with index counting + or -\n",
    "print(\"for\", student_name)\n",
    "print(\"index 3 =\", \"'\" + student_name[3] + \"'\")\n",
    "print(\"index -2 =\",\"'\" + student_name[-2] + \"'\")"
   ]
  },
  {
   "cell_type": "markdown",
   "metadata": {
    "collapsed": true
   },
   "source": [
    "## Task 2\n"
   ]
  },
  {
   "cell_type": "code",
   "execution_count": null,
   "metadata": {},
   "outputs": [],
   "source": [
    "# [ ] assign a string 5 or more letters long to the variable: street_name\n",
    "# [ ] print the last 3 characters of street_name\n",
    "\n"
   ]
  },
  {
   "cell_type": "code",
   "execution_count": null,
   "metadata": {},
   "outputs": [],
   "source": [
    "# [ ] create and assign string variable: first_name\n",
    "\n",
    "# [ ] print the first and last letters of name\n",
    "\n"
   ]
  },
  {
   "cell_type": "markdown",
   "metadata": {
    "collapsed": true
   },
   "source": [
    "## Task 3: Fix the errors"
   ]
  },
  {
   "cell_type": "code",
   "execution_count": null,
   "metadata": {},
   "outputs": [],
   "source": [
    "# [ ] Review, Run, Fix the error using string index\n",
    "shoe = \"tennis\"\n",
    "# print the last letter\n",
    "print(shoe(-1))\n",
    "\n"
   ]
  },
  {
   "cell_type": "markdown",
   "metadata": {},
   "source": [
    "[Terms of use](http://go.microsoft.com/fwlink/?LinkID=206977) &nbsp; [Privacy & cookies](https://go.microsoft.com/fwlink/?LinkId=521839) &nbsp; © 2017 Microsoft"
   ]
  }
 ],
 "metadata": {
  "anaconda-cloud": {},
  "kernelspec": {
   "display_name": "Python 3",
   "language": "python",
   "name": "python3"
  },
  "language_info": {
   "codemirror_mode": {
    "name": "ipython",
    "version": 3
   },
   "file_extension": ".py",
   "mimetype": "text/x-python",
   "name": "python",
   "nbconvert_exporter": "python",
   "pygments_lexer": "ipython3",
   "version": "3.8.5"
  }
 },
 "nbformat": 4,
 "nbformat_minor": 1
}
