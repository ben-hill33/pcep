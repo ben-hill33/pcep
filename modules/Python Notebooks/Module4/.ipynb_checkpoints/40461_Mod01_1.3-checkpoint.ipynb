{
 "cells": [
  {
   "cell_type": "markdown",
   "metadata": {},
   "source": [
    "# Section 1.3\n",
    "## Iterating Strings\n",
    "- Accessing string characters with index\n",
    "- Accessing substrings with index slicing\n",
    "- **Iterating through characters of a string**\n",
    "- More string methods\n",
    "\n",
    "----- \n",
    "\n",
    "### Student will be able to\n",
    "- Work with string characters\n",
    "- Slice strings into substrings\n",
    "- **Iterate through string characters**\n",
    "- Use string methods"
   ]
  },
  {
   "cell_type": "markdown",
   "metadata": {},
   "source": [
    "## Concept: Iterate a String by Character\n",
    "\n",
    "### `for letter in word:`\n",
    "Python provides powerful sequence iteration features.  Below, **`for letter in word:`** loops through each letter in *word*.\n",
    "\n",
    "```python\n",
    "word = \"cello\"\n",
    "\n",
    "for letter in word:\n",
    "    print(letter)\n",
    "```  \n",
    "\n",
    "The variable **`letter`** is an arbitrary variable name .  Any valid variable name can be used.\n"
   ]
  },
  {
   "cell_type": "markdown",
   "metadata": {},
   "source": [
    "### Examples"
   ]
  },
  {
   "cell_type": "code",
   "execution_count": null,
   "metadata": {},
   "outputs": [],
   "source": [
    "# [ ] review and run example\n",
    "word = \"cello\"\n",
    "\n",
    "for letter in word:\n",
    "    print(letter)"
   ]
  },
  {
   "cell_type": "code",
   "execution_count": null,
   "metadata": {},
   "outputs": [],
   "source": [
    "# [ ] review and run example\n",
    "# note: the variable 'letter' changed to 'item'\n",
    "word = \"trumpet\"\n",
    "\n",
    "for item in word:\n",
    "    print(item)"
   ]
  },
  {
   "cell_type": "code",
   "execution_count": null,
   "metadata": {},
   "outputs": [],
   "source": [
    "# [ ] review and run example\n",
    "# note: variable is now 'xyz' \n",
    "# using 'xyz', 'item' or 'letter' are all the same result\n",
    "word = \"piano\"\n",
    "\n",
    "for xyz in word:\n",
    "    print(xyz)"
   ]
  },
  {
   "cell_type": "code",
   "execution_count": null,
   "metadata": {},
   "outputs": [],
   "source": [
    "# [ ] review and run example\n",
    "# creates a new string (new_name) adding a letter (ltr) each loop\n",
    "# Q?: how many times will the loop run?\n",
    "student_name = \"Skye\"\n",
    "new_name = \"\"\n",
    "\n",
    "for ltr in student_name:\n",
    "    if ltr.lower() == \"y\":\n",
    "        new_name += ltr.upper()\n",
    "    else:\n",
    "        new_name += ltr\n",
    "print(student_name,\"to\",new_name)"
   ]
  },
  {
   "cell_type": "markdown",
   "metadata": {
    "collapsed": true
   },
   "source": [
    "## Task 1: Iterate a String\n",
    "### One character at a time"
   ]
  },
  {
   "cell_type": "code",
   "execution_count": null,
   "metadata": {},
   "outputs": [],
   "source": [
    "# [ ] Get user input for first_name\n",
    "# [ ] iterate through letters in first_name \n",
    "#    - print each letter on a new line\n",
    "\n",
    "\n",
    "\n"
   ]
  },
  {
   "cell_type": "markdown",
   "metadata": {},
   "source": [
    "## Task 2 (Program): capitalize-io\n",
    "- Get user input for first_name\n",
    "- Create an empty string variable: new_name\n",
    "- Iterate through letters in first_name \n",
    "  - Add each letter in new_name\n",
    "  - Capitalize if letter is an \"i\" or \"o\" *(hint: if, elif, else)\n",
    "- Print new_name"
   ]
  },
  {
   "cell_type": "code",
   "execution_count": null,
   "metadata": {},
   "outputs": [],
   "source": [
    "# [ ] Create capitalize-io\n",
    "\n"
   ]
  },
  {
   "cell_type": "markdown",
   "metadata": {},
   "source": [
    "## Concept: Iterate Substrings \n",
    "\n",
    "Combine string slicing and iteration:\n",
    "\n",
    "```python\n",
    "student_name = \"Skye\"\n",
    "\n",
    "for letter in student_name[:3]:\n",
    "    print(letter)\n",
    "```  \n",
    "\n",
    "Iterate backwards using: **`student_name[::-1]`**."
   ]
  },
  {
   "cell_type": "markdown",
   "metadata": {},
   "source": [
    "### Example"
   ]
  },
  {
   "cell_type": "code",
   "execution_count": null,
   "metadata": {},
   "outputs": [],
   "source": [
    "# [ ] review and run example\n",
    "student_name = \"Skye\"\n",
    "\n",
    "for letter in student_name[:3]:\n",
    "    print(letter)"
   ]
  },
  {
   "cell_type": "code",
   "execution_count": null,
   "metadata": {},
   "outputs": [],
   "source": [
    "# Iterate BACKWARDS\n",
    "# [ ] review and run example\n",
    "student_name = \"Skye\"\n",
    "\n",
    "# start at \"y\" (student_name[2]), iterate backwards\n",
    "for letter in student_name[2::-1]:\n",
    "    print(letter)"
   ]
  },
  {
   "cell_type": "markdown",
   "metadata": {
    "collapsed": true
   },
   "source": [
    "## Task 3: String slicing and iteration"
   ]
  },
  {
   "cell_type": "code",
   "execution_count": null,
   "metadata": {},
   "outputs": [],
   "source": [
    "# [ ] create & print a variable, other_word, made of every other letter in long_word\n",
    "long_word = \"juxtaposition\"\n",
    "\n"
   ]
  },
  {
   "cell_type": "code",
   "execution_count": 1,
   "metadata": {},
   "outputs": [
    {
     "ename": "TypeError",
     "evalue": "say_this() missing 1 required positional argument: 'phrase'",
     "output_type": "error",
     "traceback": [
      "\u001b[1;31m---------------------------------------------------------------------------\u001b[0m",
      "\u001b[1;31mTypeError\u001b[0m                                 Traceback (most recent call last)",
      "\u001b[1;32m<ipython-input-1-e234c6c1303b>\u001b[0m in \u001b[0;36m<module>\u001b[1;34m\u001b[0m\n\u001b[0;32m      7\u001b[0m     \u001b[0mprint\u001b[0m\u001b[1;33m(\u001b[0m\u001b[0mphrase\u001b[0m\u001b[1;33m)\u001b[0m\u001b[1;33m\u001b[0m\u001b[1;33m\u001b[0m\u001b[0m\n\u001b[0;32m      8\u001b[0m \u001b[1;33m\u001b[0m\u001b[0m\n\u001b[1;32m----> 9\u001b[1;33m \u001b[0msay_this\u001b[0m\u001b[1;33m(\u001b[0m\u001b[1;33m)\u001b[0m\u001b[1;33m\u001b[0m\u001b[1;33m\u001b[0m\u001b[0m\n\u001b[0m",
      "\u001b[1;31mTypeError\u001b[0m: say_this() missing 1 required positional argument: 'phrase'"
     ]
    }
   ],
   "source": [
    "# Mirror Color\n",
    "# [ ] get user input, fav_color\n",
    "# [ ] print fav_color backwards + fav_color\n",
    "# example: \"Red\" prints \"deRRed\"\n",
    "\n",
    "def say_this(phrase):  \n",
    "    print(phrase)\n",
    "        \n",
    "say_this()\n"
   ]
  },
  {
   "cell_type": "markdown",
   "metadata": {},
   "source": [
    "[Terms of use](http://go.microsoft.com/fwlink/?LinkID=206977) &nbsp; [Privacy & cookies](https://go.microsoft.com/fwlink/?LinkId=521839) &nbsp; © 2017 Microsoft"
   ]
  }
 ],
 "metadata": {
  "anaconda-cloud": {},
  "kernelspec": {
   "display_name": "Python 3",
   "language": "python",
   "name": "python3"
  },
  "language_info": {
   "codemirror_mode": {
    "name": "ipython",
    "version": 3
   },
   "file_extension": ".py",
   "mimetype": "text/x-python",
   "name": "python",
   "nbconvert_exporter": "python",
   "pygments_lexer": "ipython3",
   "version": "3.8.5"
  }
 },
 "nbformat": 4,
 "nbformat_minor": 1
}
