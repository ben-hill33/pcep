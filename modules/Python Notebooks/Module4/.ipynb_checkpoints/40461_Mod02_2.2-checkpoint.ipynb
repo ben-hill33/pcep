{
 "cells": [
  {
   "cell_type": "markdown",
   "metadata": {},
   "source": [
    "# Section 2.2\n",
    "## List Append\n",
    "- List Creation\n",
    "- List Access\n",
    "- **List Append**\n",
    "- List Insert\n",
    "- List Delete\n",
    "\n",
    "----- \n",
    "\n",
    "### Student will be able to\n",
    "- Create lists\n",
    "- Access items in a list\n",
    "- **Add items to the end of a list**\n",
    "- Modify and insert items into a list\n",
    "- Delete items from a list\n"
   ]
  },
  {
   "cell_type": "markdown",
   "metadata": {},
   "source": [
    "## Concept: Appending to Lists\n",
    "\n",
    "**`.append()`** method adds an item to the end of a list   \n",
    "```python\n",
    "party_list.append(\"Alton\")\n",
    "```"
   ]
  },
  {
   "cell_type": "markdown",
   "metadata": {},
   "source": [
    "### Examples"
   ]
  },
  {
   "cell_type": "code",
   "execution_count": null,
   "metadata": {},
   "outputs": [],
   "source": [
    "# [ ] review and run example\n",
    "# the list before append\n",
    "sample_list = [1, 1, 2]\n",
    "print(\"sample_list before: \", sample_list)\n",
    "\n",
    "sample_list.append(3)\n",
    "# the list after append\n",
    "print(\"sample_list after:  \", sample_list)"
   ]
  },
  {
   "cell_type": "code",
   "execution_count": null,
   "metadata": {},
   "outputs": [],
   "source": [
    "# [ ] review and run example\n",
    "# append number to sample_list\n",
    "print(\"sample_list start:  \", sample_list)\n",
    "sample_list.append(3)\n",
    "print(\"sample_list added:  \", sample_list)\n",
    "\n",
    "# append again\n",
    "sample_list.append(8)\n",
    "print(\"sample_list added:  \", sample_list)\n",
    "\n",
    "# append again\n",
    "sample_list.append(5)\n",
    "print(\"sample_list added:  \", sample_list)\n",
    "\n",
    "# [ ] run this cell several times in a row \n",
    "# [ ] run cell above, then run this cell again"
   ]
  },
  {
   "cell_type": "code",
   "execution_count": null,
   "metadata": {},
   "outputs": [],
   "source": [
    "# [ ] review and run example\n",
    "mixed_types = [1, \"cat\"]\n",
    "# append number\n",
    "mixed_types.append(3)\n",
    "print(\"mixed_types list: \", mixed_types)\n",
    "\n",
    "# append string\n",
    "mixed_types.append(\"turtle\")\n",
    "print(\"mixed_types list: \", mixed_types)"
   ]
  },
  {
   "cell_type": "markdown",
   "metadata": {
    "collapsed": true
   },
   "source": [
    "## Task 1: `.append()`"
   ]
  },
  {
   "cell_type": "code",
   "execution_count": null,
   "metadata": {},
   "outputs": [],
   "source": [
    "# Currency Values\n",
    "# [ ] create a list of 3 or more currency denomination values, cur_values\n",
    "# cur_values, contains values of coins and paper bills (.01, .05, etc.)\n",
    "\n",
    "# [ ] print the list\n",
    "\n",
    "\n",
    "# [ ] append an item to the list and print the list\n",
    " \n"
   ]
  },
  {
   "cell_type": "code",
   "execution_count": null,
   "metadata": {},
   "outputs": [],
   "source": [
    "# Currency Names\n",
    "# [ ] create a list of 3 or more currency denomination NAMES, cur_names\n",
    "# cur_names contains the NAMES of coins and paper bills (penny, etc.)\n",
    "\n",
    "# [ ] print the list\n",
    "\n",
    "\n",
    "# [ ] append an item to the list and print the list\n",
    " \n"
   ]
  },
  {
   "cell_type": "markdown",
   "metadata": {
    "collapsed": true
   },
   "source": [
    "## Task 2: Append items to a list with `input()` "
   ]
  },
  {
   "cell_type": "code",
   "execution_count": null,
   "metadata": {},
   "outputs": [],
   "source": [
    "# [ ] append additional values to the Currency Names list using input()\n",
    "\n",
    "# [ ] print the appended list\n",
    "\n"
   ]
  },
  {
   "cell_type": "markdown",
   "metadata": {},
   "source": [
    "## Task 3: `while` loop `.append()`\n",
    "- define an empty list: **`bday_survey`**\n",
    "- get user input, **`bday`**, asking for the day of the month they were born (1-31) or \"q\" to finish\n",
    "- using a **`while`** loop\n",
    "  - get user input, **`bday`**, asking for the day of the month they were born (1-31) or \"q\" to finish\n",
    "  - append the **`bday`** input to the **`bday_survey`** list\n",
    "  - repeat input until a user enters **\"q\"** to quit\n",
    "- print bday_survey list"
   ]
  },
  {
   "cell_type": "code",
   "execution_count": null,
   "metadata": {},
   "outputs": [],
   "source": [
    "# [ ] complete the Birthday Survey task above\n",
    "\n"
   ]
  },
  {
   "cell_type": "markdown",
   "metadata": {},
   "source": [
    "## Task 4: Fix the error\n"
   ]
  },
  {
   "cell_type": "code",
   "execution_count": null,
   "metadata": {},
   "outputs": [],
   "source": [
    "# [ ] Fix the Error\n",
    "three_numbers = [1, 1, 2]\n",
    "print(\"an item in the list is: \", three_numbers[3])\n",
    "\n"
   ]
  },
  {
   "cell_type": "markdown",
   "metadata": {},
   "source": [
    "[Terms of use](http://go.microsoft.com/fwlink/?LinkID=206977) &nbsp; [Privacy & cookies](https://go.microsoft.com/fwlink/?LinkId=521839) &nbsp; © 2017 Microsoft"
   ]
  }
 ],
 "metadata": {
  "anaconda-cloud": {},
  "kernelspec": {
   "display_name": "Python 3",
   "language": "python",
   "name": "python3"
  },
  "language_info": {
   "codemirror_mode": {
    "name": "ipython",
    "version": 3
   },
   "file_extension": ".py",
   "mimetype": "text/x-python",
   "name": "python",
   "nbconvert_exporter": "python",
   "pygments_lexer": "ipython3",
   "version": "3.8.5"
  }
 },
 "nbformat": 4,
 "nbformat_minor": 1
}
