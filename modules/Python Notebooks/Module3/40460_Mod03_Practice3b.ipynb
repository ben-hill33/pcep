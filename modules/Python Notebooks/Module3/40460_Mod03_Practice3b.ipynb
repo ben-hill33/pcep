{
  "cells": [
    {
      "metadata": {},
      "cell_type": "markdown",
      "source": "# Lab 3b  \n## Conditionals, Type, and Mathematics Extended   \n\n-----\n\n### Student will be able to\n- Code more than two choices using **`elif`**\n- Gather numeric input using type casting\n- Perform subtraction, multiplication and division operations in code  "
    },
    {
      "metadata": {},
      "cell_type": "markdown",
      "source": "## Tasks"
    },
    {
      "metadata": {},
      "cell_type": "markdown",
      "source": "### Rainbow colors\nAsk for input of a favorite rainbow color first letter: ROYGBIV.\n\nUsing `if`, `elif`, and `else`:  \n- Print the color matching the letter  \n    - R = Red  \n    - O = Orange  \n    - Y = Yellow  \n    - G = Green\n    - B = Blue\n    - I = Indigo\n    - V = Violet\n    - Else print \"no match\"\n"
    },
    {
      "metadata": {
        "trusted": false
      },
      "cell_type": "code",
      "source": "# [ ] complete rainbow colors\n\n\n",
      "execution_count": null,
      "outputs": []
    },
    {
      "metadata": {
        "trusted": false
      },
      "cell_type": "code",
      "source": "# [ ] make the code above into a function rainbow_color() that has a string parameter, \n# get input and call the function and return the \n\n",
      "execution_count": null,
      "outputs": []
    },
    {
      "metadata": {},
      "cell_type": "markdown",
      "source": "# &nbsp;  \n**Create function age_20() that adds or subtracts 20 from your age for a return value based on current age** (use `if`) \n- Call the function with user input and then use the return value in a sentence  \nExample `age_20(25)` returns **5**: \n> \"5 years old, 20 years difference from now\""
    },
    {
      "metadata": {
        "trusted": false
      },
      "cell_type": "code",
      "source": "# [ ] complete age_20()\n\n",
      "execution_count": null,
      "outputs": []
    },
    {
      "metadata": {},
      "cell_type": "markdown",
      "source": "**Create a function rainbow_or_age that takes a string argument**\n- If argument is a digit return the value of calling age_20() with the str value cast as **`int`** \n- If argument is an alphabetical character return the value of calling rainbow_color() with the str\n- If neither return FALSE"
    },
    {
      "metadata": {
        "trusted": false
      },
      "cell_type": "code",
      "source": "# [ ]  create rainbow_or_age()\n\n",
      "execution_count": null,
      "outputs": []
    },
    {
      "metadata": {
        "trusted": false
      },
      "cell_type": "code",
      "source": "# [ ]  add 2 numbers from input using a cast to integer and display the answer \n\n",
      "execution_count": null,
      "outputs": []
    },
    {
      "metadata": {
        "trusted": false
      },
      "cell_type": "code",
      "source": "# [ ] Multiply 2 numbers from input using cast and save the answer as part of a string \"the answer is...\"\n# display the string using print\n\n",
      "execution_count": null,
      "outputs": []
    },
    {
      "metadata": {
        "trusted": false
      },
      "cell_type": "code",
      "source": "# [ ] get input of 2 numbers and display the average: (num1 + num2) divided by 2\n\n",
      "execution_count": null,
      "outputs": []
    },
    {
      "metadata": {
        "trusted": false
      },
      "cell_type": "code",
      "source": "# [ ] get input of 2 numbers and subtract the largest from the smallest (use an if statement to see which is larger)\n# show the answer\n\n",
      "execution_count": null,
      "outputs": []
    },
    {
      "metadata": {
        "trusted": false
      },
      "cell_type": "code",
      "source": "# [ ] Divide a larger number by a smaller number and print the integer part of the result\n# don't divide by zero! if a zero is input make the result zero\n# [ ] cast the answer to an integer to cut off the decimals and print the result\n\n",
      "execution_count": null,
      "outputs": []
    },
    {
      "metadata": {},
      "cell_type": "markdown",
      "source": "[Terms of use](http://go.microsoft.com/fwlink/?LinkID=206977) &nbsp; [Privacy & cookies](https://go.microsoft.com/fwlink/?LinkId=521839) &nbsp; © 2017 Microsoft"
    }
  ],
  "metadata": {
    "anaconda-cloud": {},
    "kernelspec": {
      "name": "python3",
      "display_name": "Python 3",
      "language": "python"
    },
    "language_info": {
      "mimetype": "text/x-python",
      "nbconvert_exporter": "python",
      "name": "python",
      "file_extension": ".py",
      "version": "3.5.4",
      "pygments_lexer": "ipython3",
      "codemirror_mode": {
        "version": 3,
        "name": "ipython"
      }
    }
  },
  "nbformat": 4,
  "nbformat_minor": 1
}