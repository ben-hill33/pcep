{
 "cells": [
  {
   "cell_type": "markdown",
   "metadata": {},
   "source": [
    "# Section 3.3\n",
    "## Conditionals: String Comparison\n",
    "- **`if`, `else`, `pass`**\n",
    "  - Conditionals using Boolean string methods\n",
    "  - Comparison operators\n",
    "  - **String comparisons**\n",
    "\n",
    "----- \n",
    "\n",
    "### Student will be able to\n",
    "- **Control code flow with `if`... `else` conditional logic**  \n",
    "  - Uing Boolean string methods (`.isupper(), .isalpha(), startswith()...`)  \n",
    "  - Using comparison (`>, <, >=, <=, ==, !=`)  \n",
    "  - **Using strings in comparisons**  "
   ]
  },
  {
   "cell_type": "markdown",
   "metadata": {},
   "source": [
    "\n",
    "## Concept: String Comparisons\n",
    "- ### Strings can be equal `==` or unequal `!=`\n",
    "- ### Strings can be greater than `>` or less than `<` \n",
    "- ### Alphabetically `\"A\"` is less than `\"B\"`\n",
    "- ### Lowercase `\"a\"` is greater than uppercase `\"A\"`"
   ]
  },
  {
   "cell_type": "markdown",
   "metadata": {},
   "source": [
    "### Examples"
   ]
  },
  {
   "cell_type": "code",
   "execution_count": null,
   "metadata": {},
   "outputs": [],
   "source": [
    "# review and run code\n",
    "\"hello\" < \"Hello\""
   ]
  },
  {
   "cell_type": "code",
   "execution_count": null,
   "metadata": {},
   "outputs": [],
   "source": [
    "# review and run code\n",
    "\"Aardvark\" > \"Zebra\""
   ]
  },
  {
   "cell_type": "code",
   "execution_count": null,
   "metadata": {},
   "outputs": [],
   "source": [
    "# review and run code\n",
    "'student' != 'Student'"
   ]
  },
  {
   "cell_type": "code",
   "execution_count": null,
   "metadata": {},
   "outputs": [],
   "source": [
    "# review and run code\n",
    "print(\"'student' >= 'Student' is\", 'student' >= 'Student')\n",
    "print(\"'student' != 'Student' is\", 'student' != 'Student')"
   ]
  },
  {
   "cell_type": "code",
   "execution_count": null,
   "metadata": {},
   "outputs": [],
   "source": [
    "# review and run code\n",
    "\"Hello \" + \"World!\" == \"Hello World!\""
   ]
  },
  {
   "cell_type": "markdown",
   "metadata": {},
   "source": [
    "## Task 1: String Comparisons"
   ]
  },
  {
   "cell_type": "code",
   "execution_count": null,
   "metadata": {},
   "outputs": [],
   "source": [
    "msg = \"Hello\"\n",
    "# [ ] print the True/False results of testing if msg string equals \"Hello\" string\n",
    "\n"
   ]
  },
  {
   "cell_type": "code",
   "execution_count": null,
   "metadata": {},
   "outputs": [],
   "source": [
    "greeting = \"Hello\"\n",
    "# [ ] get input for variable named msg, and ask user to 'Say \"Hello\"'\n",
    "# [ ] print the results of testing if msg string equals greeting string\n",
    "\n",
    "\n"
   ]
  },
  {
   "cell_type": "markdown",
   "metadata": {},
   "source": [
    "## Concept: String Comparisons with `if`\n",
    "\n"
   ]
  },
  {
   "cell_type": "markdown",
   "metadata": {},
   "source": [
    "### Examples"
   ]
  },
  {
   "cell_type": "code",
   "execution_count": null,
   "metadata": {},
   "outputs": [],
   "source": [
    "# [ ] review and run code\n",
    "msg = \"Save the notebook\"\n",
    "\n",
    "if msg.lower() == \"save the notebook\":\n",
    "    print(\"message as expected\")\n",
    "else:\n",
    "    print(\"message not as expected\")"
   ]
  },
  {
   "cell_type": "code",
   "execution_count": null,
   "metadata": {
    "collapsed": true
   },
   "outputs": [],
   "source": [
    "# [ ] review and run code\n",
    "msg = \"Save the notebook\"\n",
    "prediction = \"save the notebook\"\n",
    "\n",
    "if msg.lower() == prediction.lower():\n",
    "    print(\"message as expected\")\n",
    "else:\n",
    "    print(\"message not as expected\")"
   ]
  },
  {
   "cell_type": "markdown",
   "metadata": {},
   "source": [
    "## Task 2: Using Comparison Operators with `if`\n"
   ]
  },
  {
   "cell_type": "code",
   "execution_count": null,
   "metadata": {},
   "outputs": [],
   "source": [
    "#### [ ] get input for a variable, answer, and ask user 'What is 8 + 13? : '\n",
    "# [ ] print messages for correct answer \"21\" or incorrect answer using if/else\n",
    "# note: input returns a \"string\"\n",
    "#Guess the number program!!\n",
    "#Name: Robin DeBruine\n",
    "#Date: January 29, 2019\n",
    "#Random number, loop while true\n",
    "\n",
    "\n",
    "import random\n",
    "print(\"Welcome to my Guess the Number Program@\")\n",
    "mynumber = random.randint(1,10)\n",
    "while True:\n",
    "    print(\"Guess a number between 1 and 10\")\n",
    "    guess = int(input(\"Please guess a number between 1 and 10: \"))\n",
    "    if guess<mynumber :\n",
    "        print(\"Too low\")\n",
    "    elif guess>mynumber :\n",
    "        print(\"Too high\")\n",
    "    elif guess==mynumber :\n",
    "        print(\"You guess it!!\")\n",
    "        break\n"
   ]
  },
  {
   "cell_type": "markdown",
   "metadata": {
    "collapsed": true
   },
   "source": [
    "## Task 3 (program): True False Quiz Function\n",
    "Call the tf_quiz function with two arguments.\n",
    "- T/F question string \n",
    "- answer key string like \"T\"  \n",
    "\n",
    "Return a string: \"correct\" or incorrect\"\n",
    "\n",
    "### Define and use `tf_quiz()` function  \n",
    "- **`tf_quiz()`** has **2 parameters** which are both string arguments  \n",
    "  - **`question`**: a string containg a T/F question like \"Should save your notebook after edit?(T/F): \"  \n",
    "  - **`correct_ans`**: a string indicating the *correct answer*, either **\"T\"** or **\"F\"** \n",
    "- **`tf_quiz()`** returns a string:  \"correct\" or \"incorrect\"\n",
    "- Test tf_quiz(): **create a T/F question** (*or several!*) to **call tf_quiz()**  \n"
   ]
  },
  {
   "cell_type": "code",
   "execution_count": null,
   "metadata": {},
   "outputs": [],
   "source": [
    "# [ ] Create the program, run tests\n",
    "\n"
   ]
  },
  {
   "cell_type": "markdown",
   "metadata": {},
   "source": [
    "[Terms of use](http://go.microsoft.com/fwlink/?LinkID=206977) &nbsp; [Privacy & cookies](https://go.microsoft.com/fwlink/?LinkId=521839) &nbsp; © 2017 Microsoft"
   ]
  }
 ],
 "metadata": {
  "anaconda-cloud": {},
  "kernelspec": {
   "display_name": "Python 3",
   "language": "python",
   "name": "python3"
  },
  "language_info": {
   "codemirror_mode": {
    "name": "ipython",
    "version": 3
   },
   "file_extension": ".py",
   "mimetype": "text/x-python",
   "name": "python",
   "nbconvert_exporter": "python",
   "pygments_lexer": "ipython3",
   "version": "3.8.5"
  }
 },
 "nbformat": 4,
 "nbformat_minor": 1
}
