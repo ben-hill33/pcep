{
 "cells": [
  {
   "cell_type": "markdown",
   "metadata": {
    "slideshow": {
     "slide_type": "slide"
    }
   },
   "source": [
    "# Section 1.3\n",
    "##  Type() Function\n",
    "- Python 3 in Jupyter notebooks\n",
    "- `print()`\n",
    "- Comments  \n",
    "- **Data types basics**\n",
    "- **Variables**  \n",
    "- Addition with Strings and Integers\n",
    "- Errors  \n",
    "- Character art  \n",
    "\n",
    "-----\n",
    "\n",
    "\n",
    "### Student will be able to\n",
    "- Use Python 3 in Jupyter notebooks\n",
    "- Write working code using `print()` and `#` comments  \n",
    "- **Write working code using `type()` and variables**\n",
    "- Combine Strings using string addition (+)\n",
    "- Add numbers in code (+)\n",
    "- Troubleshoot errors\n",
    "- Create character art"
   ]
  },
  {
   "cell_type": "markdown",
   "metadata": {},
   "source": [
    "## Concept: Using the Python `type()` Function\n",
    "**`type()`** returns the data type of Python objects.\n",
    "\n",
    "\n",
    "\n",
    "### `str`, `int`, `float`  \n",
    "#### What does using `type()` reveal?\n",
    "- **`str`**: when **type()** returns **str** that means it has evaluated a **string** characters (numbers, letters, punctuation...) in quotes \n",
    "- **`int`**: when **type()** returns **int** that means it has evaluated an **Integer** (+/- whole numbers) \n",
    "- **`float`**: when **type()** returns **`float`** that means it has evaluated decimal numbers (e.g. 3.33, 0.01, 9.9999 and 3.0), ...more later in the course"
   ]
  },
  {
   "cell_type": "markdown",
   "metadata": {},
   "source": [
    "### Examples\n",
    "- Read and run the code for each sample."
   ]
  },
  {
   "cell_type": "code",
   "execution_count": null,
   "metadata": {},
   "outputs": [],
   "source": [
    "# [ ] read and run the code\n",
    "type(\"Hello World!\")"
   ]
  },
  {
   "cell_type": "code",
   "execution_count": null,
   "metadata": {},
   "outputs": [],
   "source": [
    "type(501)"
   ]
  },
  {
   "cell_type": "code",
   "execution_count": null,
   "metadata": {},
   "outputs": [],
   "source": [
    "type(8.33333)"
   ]
  },
  {
   "cell_type": "code",
   "execution_count": null,
   "metadata": {},
   "outputs": [],
   "source": [
    "student_name = \"Colette Browning\"\n",
    "type(student_name)"
   ]
  },
  {
   "cell_type": "markdown",
   "metadata": {},
   "source": [
    "## Task 1 (multi-part): Using `type()`\n",
    "- Complete the \"identify data types\" tasks by assigning  values to the variable&nbsp; **`bucket`** and using **`type()`**."
   ]
  },
  {
   "cell_type": "code",
   "execution_count": 1,
   "metadata": {},
   "outputs": [
    {
     "name": "stdout",
     "output_type": "stream",
     "text": [
      "<class 'int'>\n"
     ]
    }
   ],
   "source": [
    "# [ ] show the type after assigning bucket = a whole number value such as 16 \n",
    "\n",
    "bucket=16\n",
    "print(type(bucket))\n"
   ]
  },
  {
   "cell_type": "code",
   "execution_count": null,
   "metadata": {},
   "outputs": [],
   "source": []
  },
  {
   "cell_type": "code",
   "execution_count": null,
   "metadata": {},
   "outputs": [],
   "source": [
    "# [ ] show  the type after assigning bucket = a word in \"double quotes\"\n",
    "\n",
    "\n"
   ]
  },
  {
   "cell_type": "code",
   "execution_count": null,
   "metadata": {},
   "outputs": [],
   "source": [
    "# [ ] display the type of 'single quoting' (use single quotes) \n",
    "\n",
    "\n"
   ]
  },
  {
   "cell_type": "code",
   "execution_count": null,
   "metadata": {},
   "outputs": [],
   "source": [
    "# [ ] display the type of \"double quoting\" (use double quotes)\n",
    "\n"
   ]
  },
  {
   "cell_type": "code",
   "execution_count": null,
   "metadata": {},
   "outputs": [],
   "source": [
    "# [ ] display the type of \"12\" (use quotes)\n",
    "\n"
   ]
  },
  {
   "cell_type": "code",
   "execution_count": null,
   "metadata": {},
   "outputs": [],
   "source": [
    "# [ ] display the type of 12 (no quotes)\n",
    "\n"
   ]
  },
  {
   "cell_type": "code",
   "execution_count": null,
   "metadata": {},
   "outputs": [],
   "source": [
    "# [ ] display the type of -12 (no quotes)\n",
    "\n"
   ]
  },
  {
   "cell_type": "code",
   "execution_count": null,
   "metadata": {},
   "outputs": [],
   "source": [
    "# [ ] display the type of 12.0 (no quotes)\n",
    "\n"
   ]
  },
  {
   "cell_type": "code",
   "execution_count": null,
   "metadata": {},
   "outputs": [],
   "source": [
    "# [ ] display the type of 1.55\n",
    "\n"
   ]
  },
  {
   "cell_type": "code",
   "execution_count": null,
   "metadata": {},
   "outputs": [],
   "source": [
    "# [ ] find the type of the type(3) statement (no quotes) - just for fun\n",
    "\n"
   ]
  },
  {
   "cell_type": "markdown",
   "metadata": {},
   "source": [
    "[Terms of use](http://go.microsoft.com/fwlink/?LinkID=206977) &nbsp; [Privacy & cookies](https://go.microsoft.com/fwlink/?LinkId=521839) &nbsp; © 2017 Microsoft"
   ]
  }
 ],
 "metadata": {
  "anaconda-cloud": {},
  "kernelspec": {
   "display_name": "Python 3",
   "language": "python",
   "name": "python3"
  },
  "language_info": {
   "codemirror_mode": {
    "name": "ipython",
    "version": 3
   },
   "file_extension": ".py",
   "mimetype": "text/x-python",
   "name": "python",
   "nbconvert_exporter": "python",
   "pygments_lexer": "ipython3",
   "version": "3.8.5"
  }
 },
 "nbformat": 4,
 "nbformat_minor": 1
}
